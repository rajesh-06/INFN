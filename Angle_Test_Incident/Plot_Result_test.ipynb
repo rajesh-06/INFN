{
 "cells": [
  {
   "cell_type": "code",
   "execution_count": 19,
   "id": "d520d36d",
   "metadata": {},
   "outputs": [],
   "source": [
    "resfile = TFile::Open(\"angle_test_res_file.root\");"
   ]
  },
  {
   "cell_type": "code",
   "execution_count": 20,
   "id": "e9fa1bcd",
   "metadata": {
    "scrolled": true
   },
   "outputs": [
    {
     "name": "stdout",
     "output_type": "stream",
     "text": [
      "TNetXNGFile**\t\troot://eoshome-i01.cern.ch//eos/user/a/agautam/SWAN_projects/INFN/Angle_Test_Incident/angle_test_res_file.root\t\n",
      " TNetXNGFile*\t\troot://eoshome-i01.cern.ch//eos/user/a/agautam/SWAN_projects/INFN/Angle_Test_Incident/angle_test_res_file.root\t\n",
      "  KEY: TTree\tflat_A1;1\ttname\n"
     ]
    }
   ],
   "source": [
    "resfile->ls();\n"
   ]
  },
  {
   "cell_type": "code",
   "execution_count": 21,
   "id": "860ba9f9",
   "metadata": {},
   "outputs": [
    {
     "name": "stdout",
     "output_type": "stream",
     "text": [
      "******************************************************************************\n",
      "*Tree    :flat_A1   : tname                                                  *\n",
      "*Entries :        1 : Total =            3799 bytes  File  Size =       1160 *\n",
      "*        :          : Tree compression factor =   1.00                       *\n",
      "******************************************************************************\n",
      "*Br    0 :xmax      : xmax/F                                                 *\n",
      "*Entries :        1 : Total  Size=        559 bytes  File Size  =         78 *\n",
      "*Baskets :        1 : Basket Size=      32000 bytes  Compression=   1.00     *\n",
      "*............................................................................*\n",
      "*Br    1 :xmin      : xmin/F                                                 *\n",
      "*Entries :        1 : Total  Size=        559 bytes  File Size  =         78 *\n",
      "*Baskets :        1 : Basket Size=      32000 bytes  Compression=   1.00     *\n",
      "*............................................................................*\n",
      "*Br    2 :xmaxerr   : xmaxerr/F                                              *\n",
      "*Entries :        1 : Total  Size=        574 bytes  File Size  =         81 *\n",
      "*Baskets :        1 : Basket Size=      32000 bytes  Compression=   1.00     *\n",
      "*............................................................................*\n",
      "*Br    3 :xminerr   : xminerr/F                                              *\n",
      "*Entries :        1 : Total  Size=        574 bytes  File Size  =         81 *\n",
      "*Baskets :        1 : Basket Size=      32000 bytes  Compression=   1.00     *\n",
      "*............................................................................*\n",
      "*Br    4 :maxrate   : maxrate/F                                              *\n",
      "*Entries :        1 : Total  Size=        574 bytes  File Size  =         81 *\n",
      "*Baskets :        1 : Basket Size=      32000 bytes  Compression=   1.00     *\n",
      "*............................................................................*\n",
      "*Br    5 :maxrateerr : maxrateerr/F                                          *\n",
      "*Entries :        1 : Total  Size=        589 bytes  File Size  =         84 *\n",
      "*Baskets :        1 : Basket Size=      32000 bytes  Compression=   1.00     *\n",
      "*............................................................................*\n"
     ]
    }
   ],
   "source": [
    "flat_A1->Print();"
   ]
  },
  {
   "cell_type": "code",
   "execution_count": 25,
   "id": "d15a6246",
   "metadata": {},
   "outputs": [
    {
     "name": "stdout",
     "output_type": "stream",
     "text": [
      "======> EVENT:-1\n",
      " xmax            = 0\n",
      " xmin            = 0\n",
      " xmaxerr         = 0\n",
      " xminerr         = 0\n",
      " maxrate         = 0\n",
      " maxrateerr      = 0\n"
     ]
    }
   ],
   "source": [
    "flat_A1->Show()"
   ]
  },
  {
   "cell_type": "code",
   "execution_count": 1,
   "id": "b433ec50",
   "metadata": {},
   "outputs": [],
   "source": [
    "res_file = TFile::Open(\"output2/raw_data.root\");"
   ]
  },
  {
   "cell_type": "code",
   "execution_count": 4,
   "id": "b0dac9ce",
   "metadata": {},
   "outputs": [
    {
     "name": "stdout",
     "output_type": "stream",
     "text": [
      "TNetXNGFile**\t\troot://eoshome-i01.cern.ch//eos/user/a/agautam/SWAN_projects/INFN/Angle_Test_Incident/output2/raw_data.root\t\n",
      " TNetXNGFile*\t\troot://eoshome-i01.cern.ch//eos/user/a/agautam/SWAN_projects/INFN/Angle_Test_Incident/output2/raw_data.root\t\n",
      "  KEY: TGraphErrors\tflat.scanx.yoff.chip-0.channel-A1averagerates_vs_x;7\t [current cycle]\n",
      "  KEY: TGraphErrors\tflat.scanx.yoff.chip-0.channel-A1averagerates_vs_x;6\t [backup cycle]\n",
      "  KEY: TGraphErrors\tflat.scanx.yoff.chip-0.channel-A1averagerates_vs_x;5\t [backup cycle]\n",
      "  KEY: TGraphErrors\tflat.scanx.yoff.chip-0.channel-A1averagerates_vs_x;4\t [backup cycle]\n",
      "  KEY: TGraphErrors\tflat.scanx.yoff.chip-0.channel-A1averagerates_vs_x;3\t [backup cycle]\n",
      "  KEY: TGraphErrors\tflat.scanx.yoff.chip-0.channel-A1averagerates_vs_x;2\t [backup cycle]\n",
      "  KEY: TGraphErrors\tflat.scanx.yoff.chip-0.channel-A1averagerates_vs_x;1\t [backup cycle]\n",
      "  KEY: TGraphErrors\tflat.scanx.yoff.chip-1.channel-A1averagerates_vs_x;5\t [current cycle]\n",
      "  KEY: TGraphErrors\tflat.scanx.yoff.chip-1.channel-A1averagerates_vs_x;4\t [backup cycle]\n",
      "  KEY: TGraphErrors\tflat.scanx.yoff.chip-1.channel-A1averagerates_vs_x;3\t [backup cycle]\n",
      "  KEY: TGraphErrors\tflat.scanx.yoff.chip-1.channel-A1averagerates_vs_x;2\t [backup cycle]\n",
      "  KEY: TGraphErrors\tflat.scanx.yoff.chip-1.channel-A1averagerates_vs_x;1\t [backup cycle]\n",
      "  KEY: TGraphErrors\tflat.scanx.yoff.chip-1.channel-A2averagerates_vs_x;5\t [current cycle]\n",
      "  KEY: TGraphErrors\tflat.scanx.yoff.chip-1.channel-A2averagerates_vs_x;4\t [backup cycle]\n",
      "  KEY: TGraphErrors\tflat.scanx.yoff.chip-1.channel-A2averagerates_vs_x;3\t [backup cycle]\n",
      "  KEY: TGraphErrors\tflat.scanx.yoff.chip-1.channel-A2averagerates_vs_x;2\t [backup cycle]\n",
      "  KEY: TGraphErrors\tflat.scanx.yoff.chip-1.channel-A2averagerates_vs_x;1\t [backup cycle]\n",
      "  KEY: TGraphErrors\tflat.scanx.yoff.chip-1.channel-A3averagerates_vs_x;5\t [current cycle]\n",
      "  KEY: TGraphErrors\tflat.scanx.yoff.chip-1.channel-A3averagerates_vs_x;4\t [backup cycle]\n",
      "  KEY: TGraphErrors\tflat.scanx.yoff.chip-1.channel-A3averagerates_vs_x;3\t [backup cycle]\n",
      "  KEY: TGraphErrors\tflat.scanx.yoff.chip-1.channel-A3averagerates_vs_x;2\t [backup cycle]\n",
      "  KEY: TGraphErrors\tflat.scanx.yoff.chip-1.channel-A3averagerates_vs_x;1\t [backup cycle]\n",
      "  KEY: TGraphErrors\tflat.scanx.yoff.chip-1.channel-A4averagerates_vs_x;4\t [current cycle]\n",
      "  KEY: TGraphErrors\tflat.scanx.yoff.chip-1.channel-A4averagerates_vs_x;3\t [backup cycle]\n",
      "  KEY: TGraphErrors\tflat.scanx.yoff.chip-1.channel-A4averagerates_vs_x;2\t [backup cycle]\n",
      "  KEY: TGraphErrors\tflat.scanx.yoff.chip-1.channel-A4averagerates_vs_x;1\t [backup cycle]\n",
      "  KEY: TGraphErrors\tang_flaveragerates_vs_x;10\t [current cycle]\n",
      "  KEY: TGraphErrors\tang_flaveragerates_vs_x;9\t [backup cycle]\n",
      "  KEY: TGraphErrors\tang_flaveragerates_vs_x;8\t [backup cycle]\n",
      "  KEY: TGraphErrors\tang_flaveragerates_vs_x;7\t [backup cycle]\n",
      "  KEY: TGraphErrors\tang_flaveragerates_vs_x;6\t [backup cycle]\n",
      "  KEY: TGraphErrors\tang_flaveragerates_vs_x;5\t [backup cycle]\n",
      "  KEY: TGraphErrors\tang_flaveragerates_vs_x;4\t [backup cycle]\n",
      "  KEY: TGraphErrors\tang_flaveragerates_vs_x;3\t [backup cycle]\n",
      "  KEY: TGraphErrors\tang_flaveragerates_vs_x;2\t [backup cycle]\n",
      "  KEY: TGraphErrors\tang_flaveragerates_vs_x;1\t [backup cycle]\n",
      "  KEY: TGraphErrors\tang_30averagerates_vs_x;10\t [current cycle]\n",
      "  KEY: TGraphErrors\tang_30averagerates_vs_x;9\t [backup cycle]\n",
      "  KEY: TGraphErrors\tang_30averagerates_vs_x;8\t [backup cycle]\n",
      "  KEY: TGraphErrors\tang_30averagerates_vs_x;7\t [backup cycle]\n",
      "  KEY: TGraphErrors\tang_30averagerates_vs_x;6\t [backup cycle]\n",
      "  KEY: TGraphErrors\tang_30averagerates_vs_x;5\t [backup cycle]\n",
      "  KEY: TGraphErrors\tang_30averagerates_vs_x;4\t [backup cycle]\n",
      "  KEY: TGraphErrors\tang_30averagerates_vs_x;3\t [backup cycle]\n",
      "  KEY: TGraphErrors\tang_30averagerates_vs_x;2\t [backup cycle]\n",
      "  KEY: TGraphErrors\tang_30averagerates_vs_x;1\t [backup cycle]\n",
      "  KEY: TGraphErrors\tang_50averagerates_vs_x;10\t [current cycle]\n",
      "  KEY: TGraphErrors\tang_50averagerates_vs_x;9\t [backup cycle]\n",
      "  KEY: TGraphErrors\tang_50averagerates_vs_x;8\t [backup cycle]\n",
      "  KEY: TGraphErrors\tang_50averagerates_vs_x;7\t [backup cycle]\n",
      "  KEY: TGraphErrors\tang_50averagerates_vs_x;6\t [backup cycle]\n",
      "  KEY: TGraphErrors\tang_50averagerates_vs_x;5\t [backup cycle]\n",
      "  KEY: TGraphErrors\tang_50averagerates_vs_x;4\t [backup cycle]\n",
      "  KEY: TGraphErrors\tang_50averagerates_vs_x;3\t [backup cycle]\n",
      "  KEY: TGraphErrors\tang_50averagerates_vs_x;2\t [backup cycle]\n",
      "  KEY: TGraphErrors\tang_50averagerates_vs_x;1\t [backup cycle]\n"
     ]
    }
   ],
   "source": [
    "res_file->ls();"
   ]
  },
  {
   "cell_type": "code",
   "execution_count": null,
   "id": "f7efa08e",
   "metadata": {},
   "outputs": [],
   "source": [
    "flatGraph = res_file->Get(\"flat.scanx.yoff.chip-0.channel-A1averagerates_vs_x\");\n",
    "flatGraph->Draw();\n",
    "TList* functions = flatGraph->GetListOfFunctions();"
   ]
  },
  {
   "cell_type": "code",
   "execution_count": null,
   "id": "11865977",
   "metadata": {},
   "outputs": [],
   "source": [
    "TF1* fitFunction = dynamic_cast<TF1*>(functions->First());"
   ]
  },
  {
   "cell_type": "code",
   "execution_count": null,
   "id": "c26d4dcd",
   "metadata": {},
   "outputs": [],
   "source": []
  }
 ],
 "metadata": {
  "@webio": {
   "lastCommId": null,
   "lastKernelId": null
  },
  "kernelspec": {
   "display_name": "ROOT C++",
   "language": "c++",
   "name": "root"
  },
  "language_info": {
   "codemirror_mode": "text/x-c++src",
   "file_extension": ".C",
   "mimetype": " text/x-c++src",
   "name": "c++"
  }
 },
 "nbformat": 4,
 "nbformat_minor": 5
}
