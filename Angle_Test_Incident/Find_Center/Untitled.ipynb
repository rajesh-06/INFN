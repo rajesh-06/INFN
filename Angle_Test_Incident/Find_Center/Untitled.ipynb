{
 "cells": [
  {
   "cell_type": "code",
   "execution_count": 9,
   "id": "45b4f523",
   "metadata": {},
   "outputs": [
    {
     "name": "stdout",
     "output_type": "stream",
     "text": [
      "(TFile *) 0x7fad38c1c990\n"
     ]
    }
   ],
   "source": [
    "TFile* file = new  TFile(\"test.scanx.reference.A1.txt.tree.root\")"
   ]
  },
  {
   "cell_type": "code",
   "execution_count": 10,
   "id": "e9553ab9",
   "metadata": {},
   "outputs": [
    {
     "name": "stdout",
     "output_type": "stream",
     "text": [
      "TFile**\t\ttest.scanx.reference.A1.txt.tree.root\t\n",
      " TFile*\t\ttest.scanx.reference.A1.txt.tree.root\t\n",
      "  KEY: TTree\ttree;1\t\n"
     ]
    }
   ],
   "source": [
    "file->ls()"
   ]
  },
  {
   "cell_type": "raw",
   "id": "c4531247",
   "metadata": {},
   "source": [
    "tree->Print();"
   ]
  },
  {
   "cell_type": "code",
   "execution_count": 11,
   "id": "c9a3aa2a",
   "metadata": {},
   "outputs": [
    {
     "name": "stdout",
     "output_type": "stream",
     "text": [
      "******************************************************************************\n",
      "*Tree    :          :                                                        *\n",
      "*Entries :     2010 : Total =           26258 bytes  File  Size =          0 *\n",
      "*        :          : Tree compression factor =   1.00                       *\n",
      "******************************************************************************\n",
      "*Br    0 :x         : x/F                                                    *\n",
      "*Entries :     2010 : Total  Size=       8653 bytes  One basket in memory    *\n",
      "*Baskets :        0 : Basket Size=      32000 bytes  Compression=   1.00     *\n",
      "*............................................................................*\n",
      "*Br    1 :y         : y/F                                                    *\n",
      "*Entries :     2010 : Total  Size=       8653 bytes  One basket in memory    *\n",
      "*Baskets :        0 : Basket Size=      32000 bytes  Compression=   1.00     *\n",
      "*............................................................................*\n",
      "*Br    2 :rate      : rate/F                                                 *\n",
      "*Entries :     2010 : Total  Size=       8671 bytes  One basket in memory    *\n",
      "*Baskets :        0 : Basket Size=      32000 bytes  Compression=   1.00     *\n",
      "*............................................................................*\n"
     ]
    }
   ],
   "source": [
    "tree->Print();"
   ]
  },
  {
   "cell_type": "code",
   "execution_count": 20,
   "id": "232206a8",
   "metadata": {},
   "outputs": [
    {
     "name": "stdout",
     "output_type": "stream",
     "text": [
      "======> EVENT:9\n",
      " x               = -95.23\n",
      " y               = -45.1\n",
      " rate            = 1308.88\n"
     ]
    }
   ],
   "source": [
    "tree->Show(9)"
   ]
  },
  {
   "cell_type": "code",
   "execution_count": 13,
   "id": "c6fcaf5c",
   "metadata": {},
   "outputs": [
    {
     "name": "stdout",
     "output_type": "stream",
     "text": [
      "======> EVENT:11\n",
      " x               = -95.18\n",
      " y               = -45.1\n",
      " rate            = 1135.64\n"
     ]
    }
   ],
   "source": [
    "tree->Show(11)"
   ]
  },
  {
   "cell_type": "code",
   "execution_count": 19,
   "id": "62cdc540",
   "metadata": {},
   "outputs": [
    {
     "name": "stdout",
     "output_type": "stream",
     "text": [
      "======> EVENT:18\n",
      " x               = -95.18\n",
      " y               = -45.1\n",
      " rate            = 1336.67\n"
     ]
    }
   ],
   "source": [
    "tree->Show(18)"
   ]
  },
  {
   "cell_type": "code",
   "execution_count": null,
   "id": "ac5501be",
   "metadata": {},
   "outputs": [],
   "source": []
  }
 ],
 "metadata": {
  "kernelspec": {
   "display_name": "ROOT C++",
   "language": "c++",
   "name": "root"
  },
  "language_info": {
   "codemirror_mode": "text/x-c++src",
   "file_extension": ".C",
   "mimetype": " text/x-c++src",
   "name": "c++"
  }
 },
 "nbformat": 4,
 "nbformat_minor": 5
}
