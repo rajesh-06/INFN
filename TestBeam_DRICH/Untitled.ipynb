{
 "cells": [
  {
   "cell_type": "code",
   "execution_count": 4,
   "id": "67b60fc6",
   "metadata": {},
   "outputs": [
    {
     "ename": "IndentationError",
     "evalue": "unexpected indent (122011337.py, line 5)",
     "output_type": "error",
     "traceback": [
      "\u001b[0;36m  File \u001b[0;32m\"/tmp/ipykernel_572/122011337.py\"\u001b[0;36m, line \u001b[0;32m5\u001b[0m\n\u001b[0;31m    x_sources = np.random.uniform(-spread, spread, num_sources)\u001b[0m\n\u001b[0m    ^\u001b[0m\n\u001b[0;31mIndentationError\u001b[0m\u001b[0;31m:\u001b[0m unexpected indent\n"
     ]
    }
   ],
   "source": [
    "import numpy as np\n",
    "import matplotlib.pyplot as plt\n",
    "\n",
    "    # Generate random positions around the focal point\n",
    "    x_sources = np.random.uniform(-spread, spread, num_sources)\n",
    "    y_sources = np.random.uniform(-spread, spread, num_sources)\n",
    "    return x_sources, y_sources\n",
    "\n",
    "def calculate_image_position(x, y, f):\n",
    "    # Using mirror formula (1/f = 1/do + 1/di)\n",
    "    # Assuming object distance do = x^2 + y^2 (approximation)\n",
    "    do = np.sqrt(x**2 + y**2)\n",
    "    if do == 0:\n",
    "        do = 0.0001  # To avoid division by zero\n",
    "    di = (f * do) / (do - f)\n",
    "    return di\n",
    "\n",
    "def plot_spherical_mirror_and_images(f, x_sources, y_sources):\n",
    "    fig, ax = plt.subplots()\n",
    "    \n",
    "    # Plot the spherical mirror (represented by a circle)\n",
    "    mirror_circle = plt.Circle((0, 0), f, color='black', fill=False, linestyle='--')\n",
    "    ax.add_patch(mirror_circle)\n",
    "    \n",
    "    # Plot the focal point\n",
    "    plt.scatter([0], [0], color='red', label='Focal Point (F)')\n",
    "    \n",
    "    # Plot light sources\n",
    "    plt.scatter(x_sources, y_sources, color='blue', label='Light Sources')\n",
    "    \n",
    "    # Calculate and plot image positions\n",
    "    x_images = []\n",
    "    y_images = []\n",
    "    for x, y in zip(x_sources, y_sources):\n",
    "        di = calculate_image_position(x, y, f)\n",
    "        # For simplicity, assume the image forms on the principal axis\n",
    "        x_images.append(0)\n",
    "        y_images.append(di)\n",
    "        \n",
    "    plt.scatter(x_images, y_images, color='green', label='Image Positions')\n",
    "    \n",
    "    # Set plot limits and labels\n",
    "    ax.set_xlim(-2*f, 2*f)\n",
    "    ax.set_ylim(-2*f, 2*f)\n",
    "    plt.axhline(0, color='gray', linestyle='--')\n",
    "    plt.axvline(0, color='gray', linestyle='--')\n",
    "    plt.xlabel('X-axis')\n",
    "    plt.ylabel('Y-axis')\n",
    "    plt.title('Spherical Mirror and Image Formation')\n",
    "    plt.legend()\n",
    "    plt.gca().set_aspect('equal', adjustable='box')\n",
    "    plt.grid(True)\n",
    "    plt.show()\n",
    "\n",
    "# Define focal length\n",
    "f = 5\n",
    "\n",
    "# Generate random light sources\n",
    "x_sources, y_sources = generate_random_light_source(f)\n",
    "\n",
    "# Plot the spherical mirror and image formation\n",
    "plot_spherical_mirror_and_images(f, x_sources, y_sources)"
   ]
  },
  {
   "cell_type": "code",
   "execution_count": null,
   "id": "58589295",
   "metadata": {},
   "outputs": [],
   "source": [
    "TFile * file= TFile::(\"\")"
   ]
  }
 ],
 "metadata": {
  "kernelspec": {
   "display_name": "Python 3",
   "language": "python",
   "name": "python3"
  },
  "language_info": {
   "codemirror_mode": {
    "name": "ipython",
    "version": 3
   },
   "file_extension": ".py",
   "mimetype": "text/x-python",
   "name": "python",
   "nbconvert_exporter": "python",
   "pygments_lexer": "ipython3",
   "version": "3.9.12"
  }
 },
 "nbformat": 4,
 "nbformat_minor": 5
}
