{
 "cells": [
  {
   "cell_type": "code",
   "execution_count": 1,
   "id": "7fc98d57",
   "metadata": {},
   "outputs": [
    {
     "name": "stdout",
     "output_type": "stream",
     "text": [
      "Average detection rate: 0.7534\n"
     ]
    }
   ],
   "source": [
    "import numpy as np\n",
    "\n",
    "# Parameters\n",
    "beam_diameter = 10  # mm\n",
    "photon_count = 1000\n",
    "sensor_chip_radius = beam_diameter / 2  # 10 mm diameter\n",
    "dead_zone_radius = 1  # 1 mm radius\n",
    "\n",
    "# Monte Carlo Simulation\n",
    "num_simulations = 1000\n",
    "detected_counts = []\n",
    "\n",
    "for _ in range(num_simulations):\n",
    "    # Generate photon positions within the beam\n",
    "    photon_positions = np.random.uniform(-sensor_chip_radius, sensor_chip_radius, size=(photon_count, 2))\n",
    "    \n",
    "    # Count detected photons\n",
    "    detected_count = 0\n",
    "    \n",
    "    for pos in photon_positions:\n",
    "        # Check if photon is within the sensor chip but outside the dead zone\n",
    "        distance_from_origin = np.linalg.norm(pos)\n",
    "        \n",
    "        if distance_from_origin <= sensor_chip_radius and distance_from_origin > dead_zone_radius:\n",
    "            detected_count += 1\n",
    "    \n",
    "    detected_counts.append(detected_count)\n",
    "\n",
    "# Calculate average detection rate\n",
    "average_detection_rate = np.mean(detected_counts) / photon_count\n",
    "\n",
    "print(f\"Average detection rate: {average_detection_rate:.4f}\")\n"
   ]
  },
  {
   "cell_type": "code",
   "execution_count": null,
   "id": "f4eff109",
   "metadata": {},
   "outputs": [],
   "source": []
  }
 ],
 "metadata": {
  "kernelspec": {
   "display_name": "Python 3",
   "language": "python",
   "name": "python3"
  },
  "language_info": {
   "codemirror_mode": {
    "name": "ipython",
    "version": 3
   },
   "file_extension": ".py",
   "mimetype": "text/x-python",
   "name": "python",
   "nbconvert_exporter": "python",
   "pygments_lexer": "ipython3",
   "version": "3.9.12"
  }
 },
 "nbformat": 4,
 "nbformat_minor": 5
}
